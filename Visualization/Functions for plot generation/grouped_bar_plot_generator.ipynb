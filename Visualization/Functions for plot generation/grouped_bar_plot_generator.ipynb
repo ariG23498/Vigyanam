{
 "cells": [
  {
   "cell_type": "code",
   "execution_count": 171,
   "metadata": {},
   "outputs": [
    {
     "data": {
      "text/plain": [
       "'C:\\\\Users\\\\hp\\\\Desktop'"
      ]
     },
     "execution_count": 171,
     "metadata": {},
     "output_type": "execute_result"
    }
   ],
   "source": [
    "import os\n",
    "cwd = os.getcwd()\n",
    "cwd"
   ]
  },
  {
   "cell_type": "code",
   "execution_count": 172,
   "metadata": {},
   "outputs": [],
   "source": [
    "os.chdir('C:\\\\Users\\\\hp\\\\Desktop')"
   ]
  },
  {
   "cell_type": "code",
   "execution_count": 173,
   "metadata": {},
   "outputs": [],
   "source": [
    "import pandas as pd\n",
    "import numpy as np\n"
   ]
  },
  {
   "cell_type": "code",
   "execution_count": 174,
   "metadata": {},
   "outputs": [
    {
     "data": {
      "text/html": [
       "<div>\n",
       "<style>\n",
       "    .dataframe thead tr:only-child th {\n",
       "        text-align: right;\n",
       "    }\n",
       "\n",
       "    .dataframe thead th {\n",
       "        text-align: left;\n",
       "    }\n",
       "\n",
       "    .dataframe tbody tr th {\n",
       "        vertical-align: top;\n",
       "    }\n",
       "</style>\n",
       "<table border=\"1\" class=\"dataframe\">\n",
       "  <thead>\n",
       "    <tr style=\"text-align: right;\">\n",
       "      <th></th>\n",
       "      <th>Unnamed: 0</th>\n",
       "      <th>city</th>\n",
       "      <th>state</th>\n",
       "      <th>lat</th>\n",
       "      <th>lon</th>\n",
       "      <th>spirit</th>\n",
       "      <th>rationality</th>\n",
       "      <th>cer</th>\n",
       "      <th>sciinfo</th>\n",
       "      <th>rank</th>\n",
       "      <th>total</th>\n",
       "      <th>AgeCat</th>\n",
       "    </tr>\n",
       "  </thead>\n",
       "  <tbody>\n",
       "    <tr>\n",
       "      <th>0</th>\n",
       "      <td>0</td>\n",
       "      <td>Kochi</td>\n",
       "      <td>Kerala</td>\n",
       "      <td>9.966667</td>\n",
       "      <td>76.233333</td>\n",
       "      <td>63.897534</td>\n",
       "      <td>85.637917</td>\n",
       "      <td>29.514755</td>\n",
       "      <td>29.428770</td>\n",
       "      <td>74</td>\n",
       "      <td>52.119744</td>\n",
       "      <td>2</td>\n",
       "    </tr>\n",
       "    <tr>\n",
       "      <th>1</th>\n",
       "      <td>1</td>\n",
       "      <td>Kolhapur</td>\n",
       "      <td>Maharashtra</td>\n",
       "      <td>16.700000</td>\n",
       "      <td>74.216667</td>\n",
       "      <td>86.994485</td>\n",
       "      <td>74.965154</td>\n",
       "      <td>23.486140</td>\n",
       "      <td>46.894723</td>\n",
       "      <td>376</td>\n",
       "      <td>58.085125</td>\n",
       "      <td>2</td>\n",
       "    </tr>\n",
       "    <tr>\n",
       "      <th>2</th>\n",
       "      <td>2</td>\n",
       "      <td>Allahabad</td>\n",
       "      <td>Uttar Pradesh</td>\n",
       "      <td>25.450000</td>\n",
       "      <td>81.850000</td>\n",
       "      <td>73.000875</td>\n",
       "      <td>64.903862</td>\n",
       "      <td>39.707962</td>\n",
       "      <td>77.080423</td>\n",
       "      <td>36</td>\n",
       "      <td>63.673280</td>\n",
       "      <td>2</td>\n",
       "    </tr>\n",
       "    <tr>\n",
       "      <th>3</th>\n",
       "      <td>3</td>\n",
       "      <td>Nizamabad</td>\n",
       "      <td>Telangana</td>\n",
       "      <td>26.050556</td>\n",
       "      <td>83.058889</td>\n",
       "      <td>79.322939</td>\n",
       "      <td>29.141537</td>\n",
       "      <td>31.705143</td>\n",
       "      <td>34.537176</td>\n",
       "      <td>359</td>\n",
       "      <td>43.676699</td>\n",
       "      <td>1</td>\n",
       "    </tr>\n",
       "    <tr>\n",
       "      <th>4</th>\n",
       "      <td>4</td>\n",
       "      <td>Kollam</td>\n",
       "      <td>Kerala</td>\n",
       "      <td>8.880556</td>\n",
       "      <td>76.591667</td>\n",
       "      <td>0.308357</td>\n",
       "      <td>25.345064</td>\n",
       "      <td>68.013340</td>\n",
       "      <td>54.510585</td>\n",
       "      <td>126</td>\n",
       "      <td>37.044336</td>\n",
       "      <td>0</td>\n",
       "    </tr>\n",
       "  </tbody>\n",
       "</table>\n",
       "</div>"
      ],
      "text/plain": [
       "   Unnamed: 0       city          state        lat        lon     spirit  \\\n",
       "0           0      Kochi         Kerala   9.966667  76.233333  63.897534   \n",
       "1           1   Kolhapur    Maharashtra  16.700000  74.216667  86.994485   \n",
       "2           2  Allahabad  Uttar Pradesh  25.450000  81.850000  73.000875   \n",
       "3           3  Nizamabad      Telangana  26.050556  83.058889  79.322939   \n",
       "4           4     Kollam         Kerala   8.880556  76.591667   0.308357   \n",
       "\n",
       "   rationality        cer    sciinfo  rank      total  AgeCat  \n",
       "0    85.637917  29.514755  29.428770    74  52.119744       2  \n",
       "1    74.965154  23.486140  46.894723   376  58.085125       2  \n",
       "2    64.903862  39.707962  77.080423    36  63.673280       2  \n",
       "3    29.141537  31.705143  34.537176   359  43.676699       1  \n",
       "4    25.345064  68.013340  54.510585   126  37.044336       0  "
      ]
     },
     "execution_count": 174,
     "metadata": {},
     "output_type": "execute_result"
    }
   ],
   "source": [
    "file = ('dummySIH2.csv')\n",
    "dummy = pd.read_csv(file)\n",
    "dummy.head()"
   ]
  },
  {
   "cell_type": "code",
   "execution_count": 204,
   "metadata": {},
   "outputs": [],
   "source": [
    "#data for the grouped barchart(spirit of inquiry, rational thinking, causality, scientific information vs States)\n",
    "data_groupedbar_soi_st = [go.Bar(x = dummy.state, y = dummy.spirit, name = 'Spirit of Inquiry'),\n",
    "             go.Bar(x = dummy.state, y = dummy.total, name = 'Overall Scientific Temper')]\n",
    "data_groupedbar_rt_st = [go.Bar(x = dummy.state, y = dummy.rationality, name = 'Rational Thinking'),\n",
    "             go.Bar(x = dummy.state, y = dummy.total, name = 'Overall Scientific Temper')]\n",
    "data_groupedbar_cer_st = [go.Bar(x = dummy.state, y = dummy.cer, name = 'Causality'),\n",
    "             go.Bar(x = dummy.state, y = dummy.total, name = 'Overall Scientific Temper')]\n",
    "data_groupedbar_si_st = [go.Bar(x = dummy.state, y = dummy.sciinfo, name = 'Scientific Information'),\n",
    "             go.Bar(x = dummy.state, y = dummy.total, name = 'Overall Scientific Temper')]\n",
    "data_groupedbar_all = [go.Bar(x = dummy.state, y = dummy.spirit, name = 'Spirit of Inquiry'),\n",
    "                    go.Bar(x = dummy.state, y = dummy.rationality, name = 'Rational Thinking'),\n",
    "                    go.Bar(x = dummy.state, y = dummy.cer, name = 'Causality'),\n",
    "                    go.Bar(x = dummy.state, y = dummy.sciinfo, name = 'Scientific Information'),\n",
    "                    go.Bar(x = dummy.state, y = dummy.total, name = 'Overall Scientific Temper')]\n",
    "\n",
    "#layout for different grouped bar charts\n",
    "layout_groupedbar_soi_st = go.Layout({'title' : 'Spirit of Inquiry vs Overall Scientific Temper',\n",
    "                                                                  'xaxis' : {'title' : 'States'},\n",
    "                                                                  'barmode' : 'group'})\n",
    "layout_groupedbar_rt_st= go.Layout({'title' : 'Rational Thinking vs Overall Scientific Temper',\n",
    "                                                                'xaxis' : {'title' : 'States'},\n",
    "                                                                'barmode' : 'group'})\n",
    "layout_groupedbar_cer_st= go.Layout({'title' : 'Causality vs Overall Scientific Temper',\n",
    "                                                                'xaxis' : {'title' : 'States'},\n",
    "                                                                'barmode' : 'group'})\n",
    "layout_groupedbar_si_st= go.Layout({'title' : 'Scientific Information vs Overall Scientific Temper',\n",
    "                                                                'xaxis' : {'title' : 'States'},\n",
    "                                                                'barmode' : 'group'})\n",
    "layout_groupedbar_all= go.Layout({'title' : 'Comparision between the performances on all the four categories of Questions',\n",
    "                                                                'xaxis' : {'title' : 'States'},\n",
    "                                                                'barmode' : 'group'})\n",
    "def grouped_bar_plot_generator(data, layout):\n",
    "    import plotly.offline as py\n",
    "    import plotly.graph_objs as go\n",
    "    fig = go.Figure(data, layout)\n",
    "    py.plot(fig)\n"
   ]
  },
  {
   "cell_type": "code",
   "execution_count": 206,
   "metadata": {},
   "outputs": [],
   "source": [
    "grouped_bar_plot_generator(data_groupedbar_rt_st, layout_groupedbar_rt_st)"
   ]
  },
  {
   "cell_type": "code",
   "execution_count": null,
   "metadata": {
    "collapsed": true
   },
   "outputs": [],
   "source": []
  },
  {
   "cell_type": "code",
   "execution_count": null,
   "metadata": {
    "collapsed": true
   },
   "outputs": [],
   "source": []
  }
 ],
 "metadata": {
  "kernelspec": {
   "display_name": "Python 3",
   "language": "python",
   "name": "python3"
  },
  "language_info": {
   "codemirror_mode": {
    "name": "ipython",
    "version": 3
   },
   "file_extension": ".py",
   "mimetype": "text/x-python",
   "name": "python",
   "nbconvert_exporter": "python",
   "pygments_lexer": "ipython3",
   "version": "3.6.1"
  }
 },
 "nbformat": 4,
 "nbformat_minor": 2
}
