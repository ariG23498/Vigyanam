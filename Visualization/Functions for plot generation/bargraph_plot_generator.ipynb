{
 "cells": [
  {
   "cell_type": "code",
   "execution_count": 2,
   "metadata": {
    "collapsed": true
   },
   "outputs": [],
   "source": [
    "import os"
   ]
  },
  {
   "cell_type": "code",
   "execution_count": 3,
   "metadata": {},
   "outputs": [
    {
     "data": {
      "text/plain": [
       "'C:\\\\Users\\\\hp\\\\Untitled Folder'"
      ]
     },
     "execution_count": 3,
     "metadata": {},
     "output_type": "execute_result"
    }
   ],
   "source": [
    "cwd = os.getcwd()\n",
    "cwd"
   ]
  },
  {
   "cell_type": "code",
   "execution_count": 4,
   "metadata": {
    "collapsed": true
   },
   "outputs": [],
   "source": [
    "os.chdir('C:\\\\Users\\\\hp\\\\Desktop')"
   ]
  },
  {
   "cell_type": "code",
   "execution_count": 14,
   "metadata": {
    "collapsed": true
   },
   "outputs": [],
   "source": [
    "import numpy as np\n",
    "import pandas as pd\n",
    "import plotly.offline as py\n",
    "import plotly.graph_objs as go"
   ]
  },
  {
   "cell_type": "code",
   "execution_count": 16,
   "metadata": {},
   "outputs": [
    {
     "data": {
      "text/html": [
       "<div>\n",
       "<style>\n",
       "    .dataframe thead tr:only-child th {\n",
       "        text-align: right;\n",
       "    }\n",
       "\n",
       "    .dataframe thead th {\n",
       "        text-align: left;\n",
       "    }\n",
       "\n",
       "    .dataframe tbody tr th {\n",
       "        vertical-align: top;\n",
       "    }\n",
       "</style>\n",
       "<table border=\"1\" class=\"dataframe\">\n",
       "  <thead>\n",
       "    <tr style=\"text-align: right;\">\n",
       "      <th></th>\n",
       "      <th>Unnamed: 0</th>\n",
       "      <th>city</th>\n",
       "      <th>state</th>\n",
       "      <th>lat</th>\n",
       "      <th>lon</th>\n",
       "      <th>spirit</th>\n",
       "      <th>rationality</th>\n",
       "      <th>cer</th>\n",
       "      <th>sciinfo</th>\n",
       "      <th>rank</th>\n",
       "      <th>total</th>\n",
       "      <th>AgeCat</th>\n",
       "    </tr>\n",
       "  </thead>\n",
       "  <tbody>\n",
       "    <tr>\n",
       "      <th>0</th>\n",
       "      <td>0</td>\n",
       "      <td>Kochi</td>\n",
       "      <td>Kerala</td>\n",
       "      <td>9.966667</td>\n",
       "      <td>76.233333</td>\n",
       "      <td>63.897534</td>\n",
       "      <td>85.637917</td>\n",
       "      <td>29.514755</td>\n",
       "      <td>29.428770</td>\n",
       "      <td>74</td>\n",
       "      <td>52.119744</td>\n",
       "      <td>2</td>\n",
       "    </tr>\n",
       "    <tr>\n",
       "      <th>1</th>\n",
       "      <td>1</td>\n",
       "      <td>Kolhapur</td>\n",
       "      <td>Maharashtra</td>\n",
       "      <td>16.700000</td>\n",
       "      <td>74.216667</td>\n",
       "      <td>86.994485</td>\n",
       "      <td>74.965154</td>\n",
       "      <td>23.486140</td>\n",
       "      <td>46.894723</td>\n",
       "      <td>376</td>\n",
       "      <td>58.085125</td>\n",
       "      <td>2</td>\n",
       "    </tr>\n",
       "    <tr>\n",
       "      <th>2</th>\n",
       "      <td>2</td>\n",
       "      <td>Allahabad</td>\n",
       "      <td>Uttar Pradesh</td>\n",
       "      <td>25.450000</td>\n",
       "      <td>81.850000</td>\n",
       "      <td>73.000875</td>\n",
       "      <td>64.903862</td>\n",
       "      <td>39.707962</td>\n",
       "      <td>77.080423</td>\n",
       "      <td>36</td>\n",
       "      <td>63.673280</td>\n",
       "      <td>2</td>\n",
       "    </tr>\n",
       "    <tr>\n",
       "      <th>3</th>\n",
       "      <td>3</td>\n",
       "      <td>Nizamabad</td>\n",
       "      <td>Telangana</td>\n",
       "      <td>26.050556</td>\n",
       "      <td>83.058889</td>\n",
       "      <td>79.322939</td>\n",
       "      <td>29.141537</td>\n",
       "      <td>31.705143</td>\n",
       "      <td>34.537176</td>\n",
       "      <td>359</td>\n",
       "      <td>43.676699</td>\n",
       "      <td>1</td>\n",
       "    </tr>\n",
       "    <tr>\n",
       "      <th>4</th>\n",
       "      <td>4</td>\n",
       "      <td>Kollam</td>\n",
       "      <td>Kerala</td>\n",
       "      <td>8.880556</td>\n",
       "      <td>76.591667</td>\n",
       "      <td>0.308357</td>\n",
       "      <td>25.345064</td>\n",
       "      <td>68.013340</td>\n",
       "      <td>54.510585</td>\n",
       "      <td>126</td>\n",
       "      <td>37.044336</td>\n",
       "      <td>0</td>\n",
       "    </tr>\n",
       "  </tbody>\n",
       "</table>\n",
       "</div>"
      ],
      "text/plain": [
       "   Unnamed: 0       city          state        lat        lon     spirit  \\\n",
       "0           0      Kochi         Kerala   9.966667  76.233333  63.897534   \n",
       "1           1   Kolhapur    Maharashtra  16.700000  74.216667  86.994485   \n",
       "2           2  Allahabad  Uttar Pradesh  25.450000  81.850000  73.000875   \n",
       "3           3  Nizamabad      Telangana  26.050556  83.058889  79.322939   \n",
       "4           4     Kollam         Kerala   8.880556  76.591667   0.308357   \n",
       "\n",
       "   rationality        cer    sciinfo  rank      total  AgeCat  \n",
       "0    85.637917  29.514755  29.428770    74  52.119744       2  \n",
       "1    74.965154  23.486140  46.894723   376  58.085125       2  \n",
       "2    64.903862  39.707962  77.080423    36  63.673280       2  \n",
       "3    29.141537  31.705143  34.537176   359  43.676699       1  \n",
       "4    25.345064  68.013340  54.510585   126  37.044336       0  "
      ]
     },
     "execution_count": 16,
     "metadata": {},
     "output_type": "execute_result"
    }
   ],
   "source": [
    "dummy = pd.read_csv('dummySIH2.csv')\n",
    "dummy.head()"
   ]
  },
  {
   "cell_type": "code",
   "execution_count": 44,
   "metadata": {
    "collapsed": true
   },
   "outputs": [],
   "source": [
    "def bargraph_plot_generator(data, layout):\n",
    "    figure = go.Figure(data, layout)\n",
    "    \n",
    "    #data for bar graph(spirit of inquiry, rational thinking, causality, scientific information, overall scientific temper vs states)\n",
    "    data_bar_soi = [go.Bar(\n",
    "                   x = dummy.state,\n",
    "                   y = dummy.spirit,\n",
    "                   name = 'Spirit of Inquiry'\n",
    "                    \n",
    "                 )\n",
    "            ]\n",
    "    data_bar_rt = [go.Bar(\n",
    "                    x = dummy.state,\n",
    "                    y = dummy.rationality,\n",
    "                    name = 'Rational Thinking'\n",
    "                   )\n",
    "            ]\n",
    "    data_bar_cef = [go.Bar(\n",
    "                    x = dummy.state,\n",
    "                    y = dummy.cer,\n",
    "                    name = 'Causality')\n",
    "            ]\n",
    "    data_bar_si = [go.Bar(\n",
    "                    x = dummy.state,\n",
    "                    y = dummy.sciinfo,\n",
    "                    name = 'Scientific Information')\n",
    "            ]\n",
    "    data_bar_st = [go.Bar(\n",
    "                    x = dummy.state,\n",
    "                    y = dummy.total,\n",
    "                    name = 'Scientific Temper')\n",
    "            ]\n",
    "    \n",
    "    \n",
    "    #layout for bar graphs(spirit of inquiry, rational thinking, causality, scientific information, overall scientific temper vs states)\n",
    "    layout_bar_soi = go.Layout({'title' : 'Spirit of Inquiry Survey', 'xaxis' : {'title' : 'States'},\n",
    "                                                               'yaxis': {'title' : 'Spirit of<br>Inquiry'}})\n",
    "\n",
    "\n",
    "    layout_bar_rt = go.Layout({'title' : 'Rational Thinking Survey', 'xaxis' : {'title' : 'States'},\n",
    "                                                               'yaxis': {'title' : 'Rational Thinking'}})\n",
    "\n",
    "\n",
    "    layout_bar_cef = go.Layout({'title' : 'Causality Survey', 'xaxis' : {'title' : 'States'}, 'yaxis': {'title' : 'Causality'}})\n",
    "\n",
    "\n",
    "    \n",
    "    layout_bar_si = go.Layout({'title' : 'Scientific Information Survey', 'xaxis' : {'title' : 'States'},\n",
    "                                                                    'yaxis': {'title' : 'Scientific Information'}})\n",
    "\n",
    "\n",
    "    layout_bar_st = go.Layout({'title' : 'Scientific Temper Survey', 'xaxis' : {'title' : 'States'},\n",
    "                                                               'yaxis': {'title' : 'Scientific Temper Survey'}})\n",
    "    layout_bar = go.Layout(barmode = 'group')\n",
    "    #layout for grouped bargraph\n",
    "    #spirit of inquiry vs overall scientific temper\n",
    "\n",
    "\n",
    "    py.plot(figure)\n"
   ]
  },
  {
   "cell_type": "code",
   "execution_count": 45,
   "metadata": {},
   "outputs": [],
   "source": [
    "bargraph_plot_generator(data_bar_rt, layout_bar_rt)\n"
   ]
  },
  {
   "cell_type": "code",
   "execution_count": null,
   "metadata": {
    "collapsed": true
   },
   "outputs": [],
   "source": []
  },
  {
   "cell_type": "code",
   "execution_count": null,
   "metadata": {
    "collapsed": true
   },
   "outputs": [],
   "source": []
  },
  {
   "cell_type": "code",
   "execution_count": null,
   "metadata": {
    "collapsed": true
   },
   "outputs": [],
   "source": []
  }
 ],
 "metadata": {
  "kernelspec": {
   "display_name": "Python 3",
   "language": "python",
   "name": "python3"
  },
  "language_info": {
   "codemirror_mode": {
    "name": "ipython",
    "version": 3
   },
   "file_extension": ".py",
   "mimetype": "text/x-python",
   "name": "python",
   "nbconvert_exporter": "python",
   "pygments_lexer": "ipython3",
   "version": "3.6.1"
  }
 },
 "nbformat": 4,
 "nbformat_minor": 2
}
