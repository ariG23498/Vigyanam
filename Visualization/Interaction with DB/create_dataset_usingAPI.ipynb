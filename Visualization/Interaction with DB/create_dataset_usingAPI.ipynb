{
 "cells": [
  {
   "cell_type": "code",
   "execution_count": 19,
   "metadata": {},
   "outputs": [],
   "source": [
    "#importing required libraries\n",
    "import numpy as np\n",
    "import pandas as pd\n",
    "import requests\n",
    "import json"
   ]
  },
  {
   "cell_type": "code",
   "execution_count": null,
   "metadata": {},
   "outputs": [],
   "source": [
    "#fetching the data\n",
    "url = ''   #put the required url\n",
    "JSONContent = requests.get(url).json()\n",
    "content = json.dumps(JSONContent, sort_keys = True)\n",
    "print(content)"
   ]
  },
  {
   "cell_type": "code",
   "execution_count": null,
   "metadata": {},
   "outputs": [],
   "source": [
    "#need to compile the data together and create the dataset\n",
    "\n",
    "channels_list = []\n",
    "JSONContent = requests.get('').json() #put the required url\n",
    "channels_list.append([JSONContent['uid'],JSONContent['city'], JSONContent['state'],\n",
    "                         JSONContent['age_range_id'], JSONContent['latitude'], JSONContent['longitude'], JSONContent['si_rank'],\n",
    "                         JSONContent['se_rank'], JSONContent['cs_rank'], JSONContent['rt_rank'], JSONContent['overall_rank']])\n",
    "\n",
    "#get data in tabular form\n",
    "dataset = pd.DataFrame(channels_list)\n",
    "dataset.sample(5)\n",
    "\n"
   ]
  },
  {
   "cell_type": "code",
   "execution_count": null,
   "metadata": {},
   "outputs": [],
   "source": [
    "#Solving the minor problems in the dataframe\n",
    "dataset.columns = ['UID', 'city', 'state', 'age_Range_id', 'latitude', 'longitude',\n",
    "                   'sciinfo_score', 'soe_score', 'cer_score', 'rt_score', 'overall_rank']\n",
    "dataset.index = pd.RangeIndex(len(dataset.index))"
   ]
  },
  {
   "cell_type": "code",
   "execution_count": null,
   "metadata": {
    "collapsed": true
   },
   "outputs": [],
   "source": [
    "#export dataset to csv_file\n",
    "dataset.to_csv()"
   ]
  }
 ],
 "metadata": {
  "kernelspec": {
   "display_name": "Python 3",
   "language": "python",
   "name": "python3"
  },
  "language_info": {
   "codemirror_mode": {
    "name": "ipython",
    "version": 3
   },
   "file_extension": ".py",
   "mimetype": "text/x-python",
   "name": "python",
   "nbconvert_exporter": "python",
   "pygments_lexer": "ipython3",
   "version": "3.6.1"
  }
 },
 "nbformat": 4,
 "nbformat_minor": 2
}
