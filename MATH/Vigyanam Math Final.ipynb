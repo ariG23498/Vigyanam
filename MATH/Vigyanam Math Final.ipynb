{
 "cells": [
  {
   "cell_type": "markdown",
   "metadata": {},
   "source": [
    "# Score calculation scheme for Vigyanam\n",
    "\n",
    "We start by introducing the notations that are used in order to devise the calculation algorithm. After that, we specify the algorithm which governs the score (scientific temper of an individual) of an individual. Towards the end of the document, we define the function which calculates th user score with respect to individual responses. "
   ]
  },
  {
   "cell_type": "markdown",
   "metadata": {},
   "source": [
    "## Notations:\n",
    "\n",
    "* $C_i$ - A particular category (i = 1, 2, 3, 4)\n",
    "    - 1 -> Scientific Information\n",
    "    - 2 -> Spirit of Enquiry\n",
    "    - 3 -> Cause-Effect Relationship\n",
    "    - 4 -> Rational Thinking\n",
    "* $q$ - Question belonging to a particular $C_i$\n",
    "* $a_i$ - Options belonging to a particular question where $i: [1,4]$"
   ]
  },
  {
   "cell_type": "markdown",
   "metadata": {},
   "source": [
    "## Algorithm:\n",
    "\n",
    "* Step 1 -> Initialize variable named **score** to 0\n",
    "* Step 2 -> Fetch a category $C_i$\n",
    "* Step 3 -> For the fetched category $C_i$:\n",
    "                3.1 Fetch all the question (q) and options (a[]) pairs\n",
    "* Step 4 -> Repeat steps from 2 to 3 for _four_ times\n",
    "* Step 5 -> For each user response:\n",
    "               5.1 Calculate the response's score w.r.t f(x) and assign it to a variable per_response_score\n",
    "               5.2 score += per_response_score \n",
    "* Step 6 -> 6.1 if score <= 0: \n",
    "                6.1.1 score = 0 \n",
    "                6.1.2 return score \n",
    "            6.2 else return score\n",
    "          "
   ]
  },
  {
   "cell_type": "markdown",
   "metadata": {},
   "source": [
    "## Defining f(x):\n",
    "\n",
    "$f(x)$ can have several variants which care calculated as below - "
   ]
  },
  {
   "cell_type": "markdown",
   "metadata": {},
   "source": []
  }
 ],
 "metadata": {
  "kernelspec": {
   "display_name": "Python 3",
   "language": "python",
   "name": "python3"
  },
  "language_info": {
   "codemirror_mode": {
    "name": "ipython",
    "version": 3
   },
   "file_extension": ".py",
   "mimetype": "text/x-python",
   "name": "python",
   "nbconvert_exporter": "python",
   "pygments_lexer": "ipython3",
   "version": "3.6.5"
  }
 },
 "nbformat": 4,
 "nbformat_minor": 2
}
